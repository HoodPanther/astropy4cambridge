{
 "metadata": {
  "astropy-tutorials": {
   "author": "Brigitta Sipocz <bsipocz@gmail.com>",
   "date": "September 2015",
   "link_name": "Getting started with photutils"
  },
  "kernelspec": {
   "display_name": "Python 3",
   "language": "python",
   "name": "python3"
  },
  "language_info": {
   "codemirror_mode": {
    "name": "ipython",
    "version": 3
   },
   "file_extension": ".py",
   "mimetype": "text/x-python",
   "name": "python",
   "nbconvert_exporter": "python",
   "pygments_lexer": "ipython3",
   "version": "3.4.4"
  },
  "name": ""
 },
 "nbformat": 3,
 "nbformat_minor": 0,
 "worksheets": [
  {
   "cells": [
    {
     "cell_type": "markdown",
     "metadata": {},
     "source": [
      "Affiliated Packages: photutils\n",
      "==============================\n",
      "Source detection and aperture photometry\n",
      "--------------------------------------\n",
      "\n",
      "The following example uses [photutils](http://photutils.readthedocs.org/en/latest) to find sources in an astronomical\n",
      "image and perform circular aperture photometry on them. This example requires the following packages:\n",
      "\n",
      "    \n",
      "### Installation\n",
      "\n",
      "You can install the required package with either conda or pip:\n",
      "\n",
      " - conda -c astropy install photutils\n",
      "\n",
      " - pip install photutils\n",
      "\n",
      "\n",
      "### Requirements\n",
      "\n",
      " - astropy v1.0 or later\n",
      " - photutils v0.1 or later\n",
      " - numpy 1.6 or later\n",
      " - scipy\n",
      " - scikit-image\n",
      " - matplotlib\n",
      " "
     ]
    },
    {
     "cell_type": "markdown",
     "metadata": {
      "slideshow": {
       "slide_type": "slide"
      }
     },
     "source": [
      "We start by loading an image from the bundled datasets and selecting a subset of the image.  We then subtract a rough estimate of the background, calculated using the image median. In the remainder of this example, we assume that the data is background-subtracted."
     ]
    },
    {
     "cell_type": "code",
     "collapsed": false,
     "input": [
      "import numpy as np\n",
      "from photutils import datasets\n",
      "\n",
      "hdu = datasets.load_star_image()\n",
      "image = hdu.data[300:800, 300:800].astype(float)\n",
      "image -= np.median(image)"
     ],
     "language": "python",
     "metadata": {},
     "outputs": []
    },
    {
     "cell_type": "code",
     "collapsed": false,
     "input": [
      "import matplotlib.pylab as plt\n",
      "%matplotlib inline\n",
      "\n",
      "plt.rc('figure', figsize=(10, 10))\n",
      "plt.imshow(image, cmap='gray_r', origin='lower')"
     ],
     "language": "python",
     "metadata": {},
     "outputs": []
    },
    {
     "cell_type": "markdown",
     "metadata": {},
     "source": [
      "Source Detection\n",
      "---------------\n",
      "Photutils supports several [source detection algorithms](http://photutils.readthedocs.org/en/latest/photutils/detection.html).  For this\n",
      "example, we use [photutils.daofind](http://photutils.readthedocs.org/en/latest/api/photutils.daofind.html#photutils.daofind) to detect the stars in the\n",
      "image.  We set the detection threshold at the 3-sigma noise level,\n",
      "estimated using the median absolution deviation of the image.  The\n",
      "parameters of the detected sources are returned as an Astropy\n",
      "[Table](http://docs.astropy.org/en/latest/api/astropy.table.Table.html#astropy.table.Table)."
     ]
    },
    {
     "cell_type": "code",
     "collapsed": false,
     "input": [
      "from photutils import daofind\n",
      "from astropy.stats import mad_std\n",
      "\n",
      "bkg_sigma = mad_std(image) \n",
      "sources = daofind(image, fwhm=4., threshold=3.*bkg_sigma)\n",
      "print(sources)"
     ],
     "language": "python",
     "metadata": {},
     "outputs": []
    },
    {
     "cell_type": "markdown",
     "metadata": {
      "collapsed": true
     },
     "source": [
      "Aperture photometry\n",
      "------------------\n",
      "Using the list of source locations (``xcentroid`` and ``ycentroid``),\n",
      "we can compute the sum of the pixel values within our [apertures](http://photutils.readthedocs.org/en/latest/photutils/aperture.html).\n",
      "For this example we choose circular apertures with a radius of 4 pixels. The [photutils.aperture_photometry](http://photutils.readthedocs.org/en/latest/api/photutils.aperture_photometry.html#photutils.aperture_photometry)\n",
      "function returns an Astropy [Table](http://docs.astropy.org/en/latest/api/astropy.table.Table.html#astropy.table.Table) with the results of\n",
      "the photometry:"
     ]
    },
    {
     "cell_type": "code",
     "collapsed": false,
     "input": [
      "from photutils import aperture_photometry, CircularAperture\n",
      "\n",
      "positions = (sources['xcentroid'], sources['ycentroid'])    \n",
      "apertures = CircularAperture(positions, r=4.)    \n",
      "phot_table = aperture_photometry(image, apertures)    \n",
      "print(phot_table)"
     ],
     "language": "python",
     "metadata": {},
     "outputs": []
    },
    {
     "cell_type": "markdown",
     "metadata": {
      "collapsed": true
     },
     "source": [
      "The sum of the pixel values within the apertures are given in the\n",
      "column ``aperture_sum``.  We now plot the image and the defined\n",
      "apertures:"
     ]
    },
    {
     "cell_type": "code",
     "collapsed": false,
     "input": [
      "import matplotlib.pylab as plt\n",
      "%matplotlib inline\n",
      "\n",
      "plt.rc('figure', figsize=(10, 10))\n",
      "plt.imshow(image, cmap='gray_r', origin='lower')\n",
      "apertures.plot(color='blue', lw=1.5, alpha=0.5)"
     ],
     "language": "python",
     "metadata": {},
     "outputs": []
    },
    {
     "cell_type": "markdown",
     "metadata": {},
     "source": [
      "For more examples and details please visit the [photutils documentation](http://photutils.readthedocs.org/en/latest/#user-documentation)."
     ]
    }
   ],
   "metadata": {}
  }
 ]
}