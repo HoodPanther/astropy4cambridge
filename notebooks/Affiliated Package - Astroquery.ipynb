{
 "metadata": {
  "kernelspec": {
   "display_name": "Python 3",
   "language": "python",
   "name": "python3"
  },
  "language_info": {
   "codemirror_mode": {
    "name": "ipython",
    "version": 3
   },
   "file_extension": ".py",
   "mimetype": "text/x-python",
   "name": "python",
   "nbconvert_exporter": "python",
   "pygments_lexer": "ipython3",
   "version": "3.4.4"
  },
  "name": ""
 },
 "nbformat": 3,
 "nbformat_minor": 0,
 "worksheets": [
  {
   "cells": [
    {
     "cell_type": "heading",
     "level": 1,
     "metadata": {},
     "source": [
      "Affiliated Package: Astroquery"
     ]
    },
    {
     "cell_type": "markdown",
     "metadata": {},
     "source": [
      "[Astroquery](http://www.astropy.org/astroquery/) is an Astropy-affiliated package that contains a collection of tools to access online Astronomical data. To install it, do:\n",
      "\n",
      "    pip install astroquery\n",
      "\n",
      "The following modules have been completed using a common API:\n",
      "\n",
      "* SIMBAD Queries (``astroquery.simbad``)\n",
      "* VizieR Queries (``astroquery.vizier``)\n",
      "* IRSA Dust Extinction Service Queries (``astroquery.irsa_dust``)\n",
      "* NED Queries (``astroquery.ned``)\n",
      "* Splatalogue Queries (``astroquery.splatalogue``)\n",
      "* IRSA Image Server program interface (IBE) Queries (``astroquery.ibe``)\n",
      "* IRSA Queries (``astroquery.irsa``)\n",
      "* UKIDSS Queries (``astroquery.ukidss``)\n",
      "* MAGPIS Queries (``astroquery.magpis``)\n",
      "* NRAO Queries (``astroquery.nrao``)\n",
      "* Besancon Queries (``astroquery.besancon``)\n",
      "* NIST Queries (``astroquery.nist``)\n",
      "* NVAS Queries (``astroquery.nvas``)\n",
      "* GAMA Queries (``astroquery.gama``)\n",
      "* ESO Queries (``astroquery.eso``)\n",
      "* xMatch Queries (``astroquery.xmatch``)\n",
      "* Atomic Line List (``astroquery.atomic``)\n",
      "* ALMA Queries (``astroquery.alma``)\n",
      "* Skyview Queries (``astroquery.skyview``)\n",
      "* NASA ADS Queries (``astroquery.nasa_ads``)\n",
      "* HEASARC Queries (``astroquery.heasarc``)\n",
      "* LCOGT Queries (``astroquery.lcogt``)\n",
      "\n",
      "These others are functional, but do not follow a common & consistent API:\n",
      "\n",
      "* Fermi Queries (``astroquery.fermi``)\n",
      "* SDSS Queries (``astroquery.sdss``)\n",
      "* ALFALFA Queries (``astroquery.alfalfa``)\n",
      "* Spitzer Heritage Archive (``astroquery.sha``)\n",
      "* LAMDA Queries (``astroquery.lamda``)\n",
      "* OGLE Queries (``astroquery.ogle``)\n",
      "* Open Exoplanet Catalogue(``astroquery.open_exoplanet_catalogue``)\n",
      "* CosmoSim Queries (``astroquery.cosmosim``)"
     ]
    },
    {
     "cell_type": "heading",
     "level": 2,
     "metadata": {},
     "source": [
      "SIMBAD"
     ]
    },
    {
     "cell_type": "markdown",
     "metadata": {},
     "source": [
      "As an example, let's run a SIMBAD query:"
     ]
    },
    {
     "cell_type": "code",
     "collapsed": false,
     "input": [
      "from astropy import units as u\n",
      "from astroquery.simbad import Simbad"
     ],
     "language": "python",
     "metadata": {},
     "outputs": []
    },
    {
     "cell_type": "code",
     "collapsed": false,
     "input": [
      "r = Simbad.query_region('m42', radius=3. * u.arcmin)"
     ],
     "language": "python",
     "metadata": {},
     "outputs": []
    },
    {
     "cell_type": "code",
     "collapsed": false,
     "input": [
      "r.colnames"
     ],
     "language": "python",
     "metadata": {},
     "outputs": []
    },
    {
     "cell_type": "code",
     "collapsed": false,
     "input": [
      "r"
     ],
     "language": "python",
     "metadata": {},
     "outputs": []
    },
    {
     "cell_type": "heading",
     "level": 2,
     "metadata": {},
     "source": [
      "SDSS"
     ]
    },
    {
     "cell_type": "markdown",
     "metadata": {},
     "source": [
      "In the following example we are looking for the SDSS photometry for a small subset of objects from the [WTS survey](http://www.epj-conferences.org/articles/epjconf/abs/2013/08/epjconf_hpcs2012_01001/epjconf_hpcs2012_01001.html) and aim to have get a table that contains both the UKIRT JHK and SDSS griz values."
     ]
    },
    {
     "cell_type": "code",
     "collapsed": false,
     "input": [
      "from astropy.table import Table, join\n",
      "from astropy.coordinates import SkyCoord\n",
      "\n",
      "from astroquery.sdss import SDSS"
     ],
     "language": "python",
     "metadata": {},
     "outputs": []
    },
    {
     "cell_type": "code",
     "collapsed": false,
     "input": [
      "input_objects = Table.read('data/WTS_sources.txt', format='ascii')\n",
      "input_objects"
     ],
     "language": "python",
     "metadata": {},
     "outputs": []
    },
    {
     "cell_type": "code",
     "collapsed": true,
     "input": [
      "coords = SkyCoord(input_objects['RA'], input_objects['DEC'],\n",
      "                         unit=u.rad)\n",
      "photoobj_fields = ['ra', 'dec',\n",
      "                   'psfMag_g', 'psfMagErr_g',\n",
      "                   'psfMag_r', 'psfMagErr_r',\n",
      "                   'psfMag_i', 'psfMagErr_i',\n",
      "                   'psfMag_z', 'psfMagErr_z']"
     ],
     "language": "python",
     "metadata": {},
     "outputs": []
    },
    {
     "cell_type": "code",
     "collapsed": false,
     "input": [
      "sdss_match = SDSS.query_crossid(coords, photoobj_fields=photoobj_fields,\n",
      "                                obj_names=input_objects['obj_id'])\n",
      "sdss_match"
     ],
     "language": "python",
     "metadata": {},
     "outputs": []
    },
    {
     "cell_type": "code",
     "collapsed": false,
     "input": [
      "result = join(input_objects, sdss_match, keys='obj_id', join_type='left')\n",
      "result"
     ],
     "language": "python",
     "metadata": {
      "scrolled": true
     },
     "outputs": []
    },
    {
     "cell_type": "code",
     "collapsed": false,
     "input": [
      "import matplotlib.pylab as plt\n",
      "%matplotlib inline\n",
      "\n",
      "plt.rc('figure', figsize=(10, 5))\n",
      "plt.ylabel('J')\n",
      "plt.xlabel('g-z')\n",
      "plt.plot(result['psfMag_g']-result['psfMag_z'], result['J'], 'x')"
     ],
     "language": "python",
     "metadata": {},
     "outputs": []
    },
    {
     "cell_type": "heading",
     "level": 2,
     "metadata": {},
     "source": [
      "Practical Exercise"
     ]
    },
    {
     "cell_type": "markdown",
     "metadata": {},
     "source": [
      "Go to the documentation and try out a query interface for a service that might be relevant to you!"
     ]
    }
   ],
   "metadata": {}
  }
 ]
}